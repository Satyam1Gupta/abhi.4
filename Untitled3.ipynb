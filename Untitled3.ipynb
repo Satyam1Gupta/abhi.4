{
  "nbformat": 4,
  "nbformat_minor": 0,
  "metadata": {
    "colab": {
      "name": "Untitled3.ipynb",
      "provenance": [],
      "include_colab_link": true
    },
    "kernelspec": {
      "name": "python3",
      "display_name": "Python 3"
    }
  },
  "cells": [
    {
      "cell_type": "markdown",
      "metadata": {
        "id": "view-in-github",
        "colab_type": "text"
      },
      "source": [
        "<a href=\"https://colab.research.google.com/github/teamabhishek/abhi.4/blob/main/Untitled3.ipynb\" target=\"_parent\"><img src=\"https://colab.research.google.com/assets/colab-badge.svg\" alt=\"Open In Colab\"/></a>"
      ]
    },
    {
      "cell_type": "code",
      "metadata": {
        "colab": {
          "base_uri": "https://localhost:8080/"
        },
        "id": "9ruyzTL90iLG",
        "outputId": "2cf050bd-0433-4279-b0cd-0da84565a831"
      },
      "source": [
        "#5\r\n",
        "n=int(input(\"Enter a mumber:\"))\r\n",
        "result=1\r\n",
        "for i in range(1,n+1,1):\r\n",
        "  result=result*i\r\n",
        "print(\"factorial of\",n,\"is\",result)\r\n"
      ],
      "execution_count": null,
      "outputs": [
        {
          "output_type": "stream",
          "text": [
            "Enter a mumber:5\n",
            "factorial of 5 is 120\n"
          ],
          "name": "stdout"
        }
      ]
    },
    {
      "cell_type": "code",
      "metadata": {
        "colab": {
          "base_uri": "https://localhost:8080/"
        },
        "id": "LVTMsRb_-RtW",
        "outputId": "fd982954-7363-4e1e-8091-25394cdf0883"
      },
      "source": [
        "#8\r\n",
        "a=int(input(\"Enter the number:\"))\r\n",
        "b=int(input(\"Enter the number2:\"))\r\n",
        "c=a+b\r\n",
        "if(15<c<20):\r\n",
        "  print(20)\r\n",
        "else:\r\n",
        "  print(c)  "
      ],
      "execution_count": null,
      "outputs": [
        {
          "output_type": "stream",
          "text": [
            "Enter the number:11\n",
            "Enter the number2:7\n",
            "20\n"
          ],
          "name": "stdout"
        }
      ]
    },
    {
      "cell_type": "code",
      "metadata": {
        "colab": {
          "base_uri": "https://localhost:8080/"
        },
        "id": "ZAqfBKqbVfvX",
        "outputId": "628d95a5-bbb1-4b2a-c8f9-b41492b86a6d"
      },
      "source": [
        "#2\r\n",
        "a=10\r\n",
        "while(True):\r\n",
        "  print(a)\r\n",
        "  a+=10\r\n",
        "  if(a==110):\r\n",
        "    break\r\n",
        "\r\n"
      ],
      "execution_count": null,
      "outputs": [
        {
          "output_type": "stream",
          "text": [
            "10\n",
            "20\n",
            "30\n",
            "40\n",
            "50\n",
            "60\n",
            "70\n",
            "80\n",
            "90\n",
            "100\n"
          ],
          "name": "stdout"
        }
      ]
    },
    {
      "cell_type": "code",
      "metadata": {
        "colab": {
          "base_uri": "https://localhost:8080/"
        },
        "id": "NJSHn3oCZNqS",
        "outputId": "f23909cf-c863-48bd-da41-ced3869a896e"
      },
      "source": [
        "#3\r\n",
        "a=\"22222343\"\r\n",
        "print(len(a))"
      ],
      "execution_count": null,
      "outputs": [
        {
          "output_type": "stream",
          "text": [
            "8\n"
          ],
          "name": "stdout"
        }
      ]
    },
    {
      "cell_type": "code",
      "metadata": {
        "id": "dCrmLDrqaHuA"
      },
      "source": [
        ""
      ],
      "execution_count": null,
      "outputs": []
    },
    {
      "cell_type": "code",
      "metadata": {
        "id": "2yusvOMlBMqj",
        "colab": {
          "base_uri": "https://localhost:8080/"
        },
        "outputId": "f49e1a45-c987-4c15-f18a-aec24f04d164"
      },
      "source": [
        "#6\r\n",
        "a=int(input(\"first number:\"))\r\n",
        "b=int(input(\"second number:\"))\r\n",
        "while(a%b!=0):\r\n",
        "  rem=a%b\r\n",
        "  a=b\r\n",
        "  b=rem\r\n",
        "print(\"HCM 0f the two number is:\",b)\r\n"
      ],
      "execution_count": null,
      "outputs": [
        {
          "output_type": "stream",
          "text": [
            "first number:25\n",
            "second number:15\n",
            "HCM 0f the two number is: 5\n"
          ],
          "name": "stdout"
        }
      ]
    },
    {
      "cell_type": "code",
      "metadata": {
        "colab": {
          "base_uri": "https://localhost:8080/"
        },
        "id": "0qGfWtHiebUU",
        "outputId": "aa681d15-6eba-4547-c0a2-08e3d95677c5"
      },
      "source": [
        "#4\r\n",
        "print(\"The prime numbers are:\")\r\n",
        "for i in range(1,21):\r\n",
        "  if(i%1==0)and(i%i==0):\r\n",
        "    print(i)\r\n",
        "  else:\r\n",
        "    continue  \r\n",
        "\r\n"
      ],
      "execution_count": null,
      "outputs": [
        {
          "output_type": "stream",
          "text": [
            "The prime numbers are:\n",
            "1\n",
            "2\n",
            "3\n",
            "4\n",
            "5\n",
            "6\n",
            "7\n",
            "8\n",
            "9\n",
            "10\n",
            "11\n",
            "12\n",
            "13\n",
            "14\n",
            "15\n",
            "16\n",
            "17\n",
            "18\n",
            "19\n",
            "20\n"
          ],
          "name": "stdout"
        }
      ]
    }
  ]
}