{
  "nbformat": 4,
  "nbformat_minor": 0,
  "metadata": {
    "colab": {
      "name": "Copy of Untitled6.ipynb",
      "provenance": [],
      "collapsed_sections": [],
      "authorship_tag": "ABX9TyPcOoCdUti6edafQVA4xZFI",
      "include_colab_link": true
    },
    "kernelspec": {
      "name": "python3",
      "display_name": "Python 3"
    }
  },
  "cells": [
    {
      "cell_type": "markdown",
      "metadata": {
        "id": "view-in-github",
        "colab_type": "text"
      },
      "source": [
        "<a href=\"https://colab.research.google.com/github/teamabhishek/abhi.4/blob/main/Copy_of_Untitled6.ipynb\" target=\"_parent\"><img src=\"https://colab.research.google.com/assets/colab-badge.svg\" alt=\"Open In Colab\"/></a>"
      ]
    },
    {
      "cell_type": "code",
      "metadata": {
        "colab": {
          "base_uri": "https://localhost:8080/"
        },
        "id": "Isw82zwIW_uM",
        "outputId": "41759e09-572c-4aa4-b5e8-f996bc72abdc"
      },
      "source": [
        "a=float(input(\"enter a number:\"))\r\n",
        "b=float(input(\"enter a number:\"))\r\n",
        "c=float(input(\"enter a number:\"))\r\n",
        "if(a>b) and (a>c):\r\n",
        "  print(\"a is largest\")\r\n",
        "if(b>c) and (b>a):\r\n",
        "  print(\"b is largest\")\r\n",
        "if(c>a) and (c>b):\r\n",
        "  print(\"c is largest\") \r\n"
      ],
      "execution_count": null,
      "outputs": [
        {
          "output_type": "stream",
          "text": [
            "enter a number:67\n",
            "enter a number:73\n",
            "enter a number:87\n",
            "c is largest\n"
          ],
          "name": "stdout"
        }
      ]
    },
    {
      "cell_type": "code",
      "metadata": {
        "colab": {
          "base_uri": "https://localhost:8080/"
        },
        "id": "pAEYZ693ZdYy",
        "outputId": "6e746b32-32ad-4ad6-c24a-db1475f74d14"
      },
      "source": [
        "a=int(input(\"enter a number:\"))\r\n",
        "if(a%2==1):\r\n",
        "  print(\"a is odd\")\r\n",
        "else:\r\n",
        "  print(\"a is even\")"
      ],
      "execution_count": null,
      "outputs": [
        {
          "output_type": "stream",
          "text": [
            "enter a number:75\n",
            "a is odd\n"
          ],
          "name": "stdout"
        }
      ]
    },
    {
      "cell_type": "code",
      "metadata": {
        "colab": {
          "base_uri": "https://localhost:8080/"
        },
        "id": "NEl8tjkaaqyQ",
        "outputId": "5c1a03e2-1fac-4f93-8ccc-a96b916ed0a6"
      },
      "source": [
        "r=float(input(\"radius of circle= \"))\r\n",
        "c=6.28*r\r\n",
        "print(\"circumference of circle=\",c)\r\n",
        "a=3.14*(r**2)\r\n",
        "print(\"area of circle=\",a)"
      ],
      "execution_count": null,
      "outputs": [
        {
          "output_type": "stream",
          "text": [
            "radius of circle= 2\n",
            "circumference of circle= 12.56\n",
            "area of circle= 12.56\n"
          ],
          "name": "stdout"
        }
      ]
    },
    {
      "cell_type": "code",
      "metadata": {
        "colab": {
          "base_uri": "https://localhost:8080/"
        },
        "id": "ULssRFRkdUNc",
        "outputId": "eeb2d65d-8659-4f46-bd68-0f3f47499d86"
      },
      "source": [
        "print(\"hello world\")"
      ],
      "execution_count": null,
      "outputs": [
        {
          "output_type": "stream",
          "text": [
            "hello world\n"
          ],
          "name": "stdout"
        }
      ]
    },
    {
      "cell_type": "code",
      "metadata": {
        "colab": {
          "base_uri": "https://localhost:8080/"
        },
        "id": "GgXgR4N2eCLM",
        "outputId": "7509aae2-0892-450f-8539-9b24709bc577"
      },
      "source": [
        "a=23\r\n",
        "b=25\r\n",
        "(a,b)=(b,a)\r\n",
        "print(a,b)"
      ],
      "execution_count": null,
      "outputs": [
        {
          "output_type": "stream",
          "text": [
            "25 23\n"
          ],
          "name": "stdout"
        }
      ]
    },
    {
      "cell_type": "code",
      "metadata": {
        "colab": {
          "base_uri": "https://localhost:8080/"
        },
        "id": "mys_SjkKeio7",
        "outputId": "7db54b91-2b0c-4ff2-c25e-79d065a50d4d"
      },
      "source": [
        "a=[0,2,7,1,5,8,9,3,4,6]\r\n",
        "for x in a:\r\n",
        " if x<5:\r\n",
        "  print(x)"
      ],
      "execution_count": null,
      "outputs": [
        {
          "output_type": "stream",
          "text": [
            "0\n",
            "2\n",
            "1\n",
            "3\n",
            "4\n"
          ],
          "name": "stdout"
        }
      ]
    },
    {
      "cell_type": "code",
      "metadata": {
        "colab": {
          "base_uri": "https://localhost:8080/"
        },
        "id": "EFS0rnPofL8C",
        "outputId": "3c067dac-987e-4741-b386-ffa2d1ea3d47"
      },
      "source": [
        "a=input(\"fill name- \")\r\n",
        "b=float(input(\"and age- \"))\r\n",
        "b+=10\r\n",
        "print(\"and get your age of 10 year after=\",b)"
      ],
      "execution_count": null,
      "outputs": [
        {
          "output_type": "stream",
          "text": [
            "fill name- smith\n",
            "and age- 12\n",
            "and get your age of 10 year after= 22.0\n"
          ],
          "name": "stdout"
        }
      ]
    },
    {
      "cell_type": "code",
      "metadata": {
        "colab": {
          "base_uri": "https://localhost:8080/"
        },
        "id": "Hj_FHOQshGC-",
        "outputId": "fd147e5e-0624-462f-f21d-b09be92fc5ae"
      },
      "source": [
        "a=input(\"word\")\r\n",
        "a=a.casefold()\r\n",
        "b=reversed(a)\r\n",
        "if list(a)==list(b):\r\n",
        "  print(\"palindrome word\")\r\n",
        "else:\r\n",
        "  print(\"sorry, word is not palindrome\")"
      ],
      "execution_count": null,
      "outputs": [
        {
          "output_type": "stream",
          "text": [
            "wordlevel\n",
            "palindrome word\n"
          ],
          "name": "stdout"
        }
      ]
    },
    {
      "cell_type": "code",
      "metadata": {
        "colab": {
          "base_uri": "https://localhost:8080/"
        },
        "id": "qnYaXPZFi83U",
        "outputId": "e032b653-7d63-410f-cb27-0a3ffe904373"
      },
      "source": [
        "a=int(input(\"enter a number: \"))\r\n",
        "b=int(input(\"enter a number: \"))\r\n",
        "if((a*b)>1000):\r\n",
        "  print(\"added according to question=\",a+b)\r\n",
        "else:\r\n",
        "  print(\"multiplied according to question=\",a*b)\r\n"
      ],
      "execution_count": null,
      "outputs": [
        {
          "output_type": "stream",
          "text": [
            "enter a number: 500\n",
            "enter a number: 3\n",
            "added according to question= 503\n"
          ],
          "name": "stdout"
        }
      ]
    },
    {
      "cell_type": "code",
      "metadata": {
        "colab": {
          "base_uri": "https://localhost:8080/"
        },
        "id": "0Z-i_Z8jkBVF",
        "outputId": "ad26f9fc-81df-4a20-c35a-77ce73679be1"
      },
      "source": [
        "a=[5,7,9,3,6]\r\n",
        "b=a+a\r\n",
        "print(\"iterated\",b)\r\n",
        "for x in a:\r\n",
        "  if(x%5==0):\r\n",
        "    print(x)"
      ],
      "execution_count": null,
      "outputs": [
        {
          "output_type": "stream",
          "text": [
            "iterated [5, 7, 9, 3, 6, 5, 7, 9, 3, 6]\n",
            "5\n"
          ],
          "name": "stdout"
        }
      ]
    },
    {
      "cell_type": "code",
      "metadata": {
        "id": "scLTDALelqtJ"
      },
      "source": [
        ""
      ],
      "execution_count": null,
      "outputs": []
    }
  ]
}